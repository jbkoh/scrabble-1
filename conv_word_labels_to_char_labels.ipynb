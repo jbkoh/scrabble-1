{
 "cells": [
  {
   "cell_type": "code",
   "execution_count": 45,
   "metadata": {
    "collapsed": true
   },
   "outputs": [],
   "source": [
    "import json\n",
    "from collections import OrderedDict, defaultdict\n",
    "from operator import itemgetter"
   ]
  },
  {
   "cell_type": "code",
   "execution_count": 46,
   "metadata": {
    "collapsed": true
   },
   "outputs": [],
   "source": [
    "# Add BILOU and BIO representation.\n"
   ]
  },
  {
   "cell_type": "code",
   "execution_count": 47,
   "metadata": {
    "collapsed": true
   },
   "outputs": [],
   "source": [
    "bilou_or_bio = 'bio'\n",
    "building_name = 'ebu3b'\n",
    "#building_name = 'pouya'\n",
    "token_type = 'justseparate'\n",
    "with open('metadata/{0}_sentence_dict_{1}.json'.format(building_name, token_type), 'r') as fp:\n",
    "    word_sentence_dict = json.load(fp)\n",
    "with open('metadata/{0}_label_dict_{1}.json'.format(building_name, token_type), 'r') as fp:\n",
    "    word_label_dict = json.load(fp)"
   ]
  },
  {
   "cell_type": "code",
   "execution_count": 48,
   "metadata": {
    "collapsed": true
   },
   "outputs": [],
   "source": [
    "# These part could be automated with Brick.\n",
    "category_dict = {\n",
    "    'equipment': ['vav', 'chilled_water_pump', 'hot_water_pump', 'ahu', 'supply_fan', 'return_fan', 'exhaust_fan'],\n",
    "    'network_adapter': ['vnd', 'network_adapter'],\n",
    "    'idenfitier': ['identifier'],\n",
    "    'location': ['room', 'floor', 'building', 'server'],\n",
    "    'none': ['none']\n",
    "}"
   ]
  },
  {
   "cell_type": "code",
   "execution_count": 49,
   "metadata": {
    "collapsed": true
   },
   "outputs": [],
   "source": [
    "def get_key(d, v):\n",
    "    for k, v_list in d.items():\n",
    "        if v in v_list:\n",
    "            return k\n",
    "    return 'pointtype'"
   ]
  },
  {
   "cell_type": "code",
   "execution_count": 50,
   "metadata": {
    "collapsed": true
   },
   "outputs": [],
   "source": [
    "def word_label_to_bilou(word, label):\n",
    "    char_label_list = list()\n",
    "    char_category_list = list()\n",
    "    if label=='none':\n",
    "        for char in word:\n",
    "            char_label_list.append((char, 'O'))\n",
    "            char_category_list.append((char, 'O'))\n",
    "    else:\n",
    "        category = get_key(category_dict, label)\n",
    "        if len(word)==1:\n",
    "            char_label_list.append((word[0], 'U_'+label))\n",
    "            char_category_list.append((word[0], 'U_'+category))\n",
    "        else:\n",
    "            char_label_list.append((word[0], 'B_' + label))\n",
    "            char_category_list.append((word[0], 'B_' + category))\n",
    "            for char in word[1:-1]:\n",
    "                char_category_list.append((char, 'I_' + category))\n",
    "                char_label_list.append((char, 'I_' + label))\n",
    "            char_label_list.append((word[-1], 'L_' + label))\n",
    "            char_category_list.append((word[-1], 'L_' + category))\n",
    "    return char_label_list, char_category_list\n",
    "\n",
    "\n",
    "def word_label_to_bio(word, label):\n",
    "    char_label_list = list()\n",
    "    char_category_list = list()\n",
    "    if label=='none':\n",
    "        for char in word:\n",
    "            char_label_list.append((char, 'O'))\n",
    "            char_category_list.append((char, 'O'))\n",
    "    else:\n",
    "        category = get_key(category_dict, label)\n",
    "        char_label_list.append((word[0], 'B_' + label))\n",
    "        char_category_list.append((word[0], 'B_' + category))\n",
    "        if len(word) > 1:\n",
    "            for char in word[1:]:\n",
    "                char_category_list.append((char, 'I_' + category))\n",
    "                char_label_list.append((char, 'I_' + label))\n",
    "    return char_label_list, char_category_list\n",
    "\n",
    "\n",
    "def word_label_to_tags(word, label):\n",
    "    if bilou_or_bio == 'bilou':\n",
    "        return word_label_to_bilou(word, label)\n",
    "    elif bilou_or_bio == 'bio':\n",
    "        return word_label_to_bio(word, label)\n",
    "    else:\n",
    "        #assert False \n",
    "        raise Exception('select between \"bilou\" or \"bio\"')"
   ]
  },
  {
   "cell_type": "code",
   "execution_count": 51,
   "metadata": {
    "collapsed": true
   },
   "outputs": [],
   "source": [
    "char_sentence_category_dict = dict()\n",
    "char_sentence_label_dict = dict()\n",
    "for srcid, word_labels in word_label_dict.items():\n",
    "    char_sentence_category = list()\n",
    "    char_sentence_label = list()\n",
    "    word_sentence = word_sentence_dict[srcid]\n",
    "    for word, label in zip(word_sentence, word_labels):\n",
    "        '''\n",
    "        if label=='none':\n",
    "            for char in word:\n",
    "                char_sentence_label.append((char, 'O'))\n",
    "                char_sentence_category.append((char, 'O'))\n",
    "        else:\n",
    "            category = get_key(category_dict, label)\n",
    "            if len(word)==1:\n",
    "                char_sentence_label.append((word[0], 'U_'+label))\n",
    "                char_sentence_category.append((word[0], 'U_'+category))\n",
    "            else:\n",
    "                char_sentence_label.append((word[0], 'B_' + label))\n",
    "                char_sentence_category.append((word[0], 'B_' + category))\n",
    "                for char in word[1:-1]:\n",
    "                    char_sentence_category.append((char, 'I_' + category))\n",
    "                    char_sentence_label.append((char, 'I_' + label))\n",
    "                char_sentence_label.append((word[-1], 'L_' + label))\n",
    "                char_sentence_category.append((word[-1], 'L_' + category))\n",
    "        '''\n",
    "        char_label_list, char_category_list = word_label_to_tags(word, label)\n",
    "        char_sentence_label += char_label_list\n",
    "        char_sentence_category += char_category_list\n",
    "    char_sentence_category_dict[srcid] = char_sentence_category\n",
    "    char_sentence_label_dict[srcid] = char_sentence_label"
   ]
  },
  {
   "cell_type": "code",
   "execution_count": 52,
   "metadata": {
    "collapsed": true
   },
   "outputs": [],
   "source": [
    "with open('metadata/brick_tags.json', 'r') as fp:\n",
    "    tag_list = json.load(fp)\n",
    "brick_tag_labels = list()\n",
    "for tag in tag_list:\n",
    "    char_label_list, _ = word_label_to_tags(tag, tag)\n",
    "    brick_tag_labels.append(char_label_list)\n",
    "with open('metadata/brick_tags_labels.json', 'w') as fp:\n",
    "    json.dump(brick_tag_labels, fp, indent=2)"
   ]
  },
  {
   "cell_type": "code",
   "execution_count": 53,
   "metadata": {
    "collapsed": true
   },
   "outputs": [],
   "source": [
    "with open('metadata/{0}_char_category_dict.json'.format(building_name), 'w') as fp:\n",
    "    json.dump(char_sentence_category_dict, fp, indent=2)\n",
    "with open('metadata/{0}_char_label_dict.json'.format(building_name), 'w') as fp:\n",
    "    json.dump(char_sentence_label_dict, fp, indent=2)"
   ]
  }
 ],
 "metadata": {
  "kernelspec": {
   "display_name": "Python 3",
   "language": "python",
   "name": "python3"
  },
  "language_info": {
   "codemirror_mode": {
    "name": "ipython",
    "version": 3
   },
   "file_extension": ".py",
   "mimetype": "text/x-python",
   "name": "python",
   "nbconvert_exporter": "python",
   "pygments_lexer": "ipython3",
   "version": "3.6.3"
  }
 },
 "nbformat": 4,
 "nbformat_minor": 2
}
